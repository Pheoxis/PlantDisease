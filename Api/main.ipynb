{
 "cells": [
  {
   "cell_type": "code",
   "execution_count": 2,
   "metadata": {},
   "outputs": [],
   "source": [
    "from fastapi import FastAPI, File, UploadFile\n",
    "from fastapi.middleware.cors import CORSMiddleware\n",
    "import uvicorn\n",
    "import numpy as np\n",
    "from io import BytesIO\n",
    "from PIL import Image\n",
    "import tensorflow as tf\n",
    "import asyncio\n",
    "import nest_asyncio\n"
   ]
  },
  {
   "cell_type": "code",
   "execution_count": 10,
   "metadata": {},
   "outputs": [
    {
     "name": "stderr",
     "output_type": "stream",
     "text": [
      "INFO:     Started server process [1715]\n",
      "INFO:     Waiting for application startup.\n",
      "INFO:     Application startup complete.\n",
      "INFO:     Uvicorn running on http://localhost:8000 (Press CTRL+C to quit)\n",
      "2023-10-12 19:59:10.758325: I tensorflow/compiler/xla/stream_executor/cuda/cuda_dnn.cc:442] Loaded cuDNN version 8700\n"
     ]
    },
    {
     "name": "stdout",
     "output_type": "stream",
     "text": [
      "1/1 [==============================] - 3s 3s/step\n",
      "INFO:     127.0.0.1:33274 - \"POST /predict HTTP/1.1\" 200 OK\n"
     ]
    },
    {
     "name": "stderr",
     "output_type": "stream",
     "text": [
      "INFO:     Shutting down\n",
      "INFO:     Waiting for application shutdown.\n",
      "INFO:     Application shutdown complete.\n",
      "INFO:     Finished server process [1715]\n"
     ]
    }
   ],
   "source": [
    "nest_asyncio.apply()\n",
    "async def my_coroutine():\n",
    "    app = FastAPI()\n",
    "\n",
    "    origins = [\n",
    "    \"http://localhost/\",\n",
    "    \"http://localhost:3000/\",\n",
    "]\n",
    "    app.add_middleware(\n",
    "        CORSMiddleware,\n",
    "        allow_origins=origins,\n",
    "        allow_credentials=True,\n",
    "        allow_methods=[\"\"],\n",
    "        allow_headers=[\"\"],\n",
    "    )\n",
    "\n",
    "    Model = tf.keras.models.load_model(\"../saved_models1/1\")\n",
    "\n",
    "    CLASS_NAMES = [\"Tomato__Target_Spot\", \"Tomato__Tomato_mosaic_virus\", \"Tomato__Tomato_YellowLeaf__Curl_Virus\",\"Tomato_Bacterial_spot\",\n",
    "                    \"Tomato_Early_blight\",\"Tomato_healthy\",\"Tomato_Late_blight\",\"Tomato_Leaf_Mold\",\"Tomato_Septoria_leaf_spot\"]\n",
    "\n",
    "    @app.get(\"/ping\")\n",
    "    async def ping():\n",
    "        return \"Hello, I am alive\"\n",
    "    \n",
    "\n",
    "    def read_file_as_image(data) -> np.ndarray:\n",
    "        image=np.array(Image.open(BytesIO(data)))\n",
    "        return image\n",
    "\n",
    "    @app.post(\"/predict\")\n",
    "    async def predict(\n",
    "        file: UploadFile = File(...)\n",
    "        ):\n",
    "        image = read_file_as_image(await file.read())\n",
    "        img_batch = np.expand_dims(image,0)\n",
    "\n",
    "        prediction = Model.predict(img_batch)\n",
    "\n",
    "        predicted_class = CLASS_NAMES[np.argmax(prediction[0])]\n",
    "        confidence=np.max(prediction[0])\n",
    "        \n",
    "        return{\n",
    "            'class' : predicted_class,\n",
    "            'confidence': float(confidence)\n",
    "        }\n",
    "    \n",
    "    if __name__ == \"__main__\":\n",
    "        uvicorn.run(app, host='localhost', port=8000)\n",
    "\n",
    "loop = asyncio.get_event_loop()\n",
    "loop.run_until_complete(my_coroutine())"
   ]
  }
 ],
 "metadata": {
  "kernelspec": {
   "display_name": "Asi",
   "language": "python",
   "name": "python3"
  },
  "language_info": {
   "codemirror_mode": {
    "name": "ipython",
    "version": 3
   },
   "file_extension": ".py",
   "mimetype": "text/x-python",
   "name": "python",
   "nbconvert_exporter": "python",
   "pygments_lexer": "ipython3",
   "version": "3.10.12"
  }
 },
 "nbformat": 4,
 "nbformat_minor": 2
}
