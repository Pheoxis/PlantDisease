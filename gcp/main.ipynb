{
 "cells": [
  {
   "cell_type": "code",
   "execution_count": 1,
   "metadata": {},
   "outputs": [
    {
     "name": "stderr",
     "output_type": "stream",
     "text": [
      "2023-10-14 17:48:55.755418: E tensorflow/compiler/xla/stream_executor/cuda/cuda_dnn.cc:9342] Unable to register cuDNN factory: Attempting to register factory for plugin cuDNN when one has already been registered\n",
      "2023-10-14 17:48:55.755490: E tensorflow/compiler/xla/stream_executor/cuda/cuda_fft.cc:609] Unable to register cuFFT factory: Attempting to register factory for plugin cuFFT when one has already been registered\n",
      "2023-10-14 17:48:55.755639: E tensorflow/compiler/xla/stream_executor/cuda/cuda_blas.cc:1518] Unable to register cuBLAS factory: Attempting to register factory for plugin cuBLAS when one has already been registered\n",
      "2023-10-14 17:48:55.768903: I tensorflow/core/platform/cpu_feature_guard.cc:182] This TensorFlow binary is optimized to use available CPU instructions in performance-critical operations.\n",
      "To enable the following instructions: AVX2 FMA, in other operations, rebuild TensorFlow with the appropriate compiler flags.\n"
     ]
    }
   ],
   "source": [
    "from google.cloud import storage\n",
    "import tensorflow as tf\n",
    "from PIL import Image\n",
    "import numpy as np"
   ]
  },
  {
   "cell_type": "code",
   "execution_count": 2,
   "metadata": {},
   "outputs": [],
   "source": [
    "Bucket_name = \"tomato_disease_bucket\"\n",
    "\n",
    "Class_names = [\"Tomato_Bacterial_spot\", \"Tomato_Early_blight\", \"Tomato_Late_blight\",\"Tomato_Leaf_Mold\",\n",
    "                    \"Tomato_Septoria_leaf_spot\",\"Tomato__Target_Spot\",\"Tomato__Tomato_YellowLeaf__Curl_Virus\",\"Tomato__Tomato_mosaic_virus\",\"Tomato_healthy\"]\n",
    "\n",
    "model = None"
   ]
  },
  {
   "cell_type": "code",
   "execution_count": 4,
   "metadata": {},
   "outputs": [],
   "source": [
    "def download_blob(bucket_name, source_blob_name, destination, destination_file_name):\n",
    "    storage_client = storage.Client()\n",
    "    bucket = storage_client.get_bucket(bucket_name)\n",
    "    blob = bucket.blob(source_blob_name)\n",
    "    blob.download_to_filename(destination_file_name)"
   ]
  },
  {
   "cell_type": "code",
   "execution_count": 5,
   "metadata": {},
   "outputs": [],
   "source": [
    "def predict(request):\n",
    "    global model \n",
    "    if model is None:\n",
    "        download_blob(\n",
    "            Bucket_name,\n",
    "            \"Models/Disease_model.h5\",\n",
    "            \"/tmp/Disease_model.h5\"\n",
    "        )\n",
    "\n",
    "        model = tf.keras.models.load_model(\"/tmp/Disease_model.h5\")\n",
    "    \n",
    "    image = request.files[\"file\"]\n",
    "\n",
    "    image = np.array(Image.open(image).convert(\"RGB\").resize((128,128)))\n",
    "    image = image/127\n",
    "    image_array = tf.expand_dims(image,0)\n",
    "\n",
    "\n",
    "    predictions = model.predict(image_array)\n",
    "\n",
    "    predictions = Class_names[np.argmax(predictions[0])]\n",
    "    confidence = round(100 * (np.max(predictions[0]),2))\n",
    "\n",
    "    return{\n",
    "            'class' : predictions,\n",
    "            'confidence': float(confidence)\n",
    "        }"
   ]
  }
 ],
 "metadata": {
  "kernelspec": {
   "display_name": "Asi",
   "language": "python",
   "name": "python3"
  },
  "language_info": {
   "codemirror_mode": {
    "name": "ipython",
    "version": 3
   },
   "file_extension": ".py",
   "mimetype": "text/x-python",
   "name": "python",
   "nbconvert_exporter": "python",
   "pygments_lexer": "ipython3",
   "version": "3.10.12"
  }
 },
 "nbformat": 4,
 "nbformat_minor": 2
}
